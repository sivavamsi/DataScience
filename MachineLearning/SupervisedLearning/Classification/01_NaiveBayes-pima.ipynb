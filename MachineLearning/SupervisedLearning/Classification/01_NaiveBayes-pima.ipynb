{
 "cells": [
  {
   "cell_type": "code",
   "execution_count": 1,
   "id": "c92e3239",
   "metadata": {},
   "outputs": [],
   "source": [
    "import pandas as pd"
   ]
  },
  {
   "cell_type": "code",
   "execution_count": 2,
   "id": "b7ae259e",
   "metadata": {},
   "outputs": [],
   "source": [
    "colnames = ['preg', 'plas', 'pres', 'skin', 'test', 'mass', 'pedi', 'age', 'class']"
   ]
  },
  {
   "cell_type": "code",
   "execution_count": 3,
   "id": "7aa00f5b",
   "metadata": {},
   "outputs": [],
   "source": [
    "df = pd.read_csv(\"pima-indians-diabetes-1.data\",names = colnames)"
   ]
  },
  {
   "cell_type": "code",
   "execution_count": 4,
   "id": "e27e0a02",
   "metadata": {},
   "outputs": [
    {
     "data": {
      "text/html": [
       "<div>\n",
       "<style scoped>\n",
       "    .dataframe tbody tr th:only-of-type {\n",
       "        vertical-align: middle;\n",
       "    }\n",
       "\n",
       "    .dataframe tbody tr th {\n",
       "        vertical-align: top;\n",
       "    }\n",
       "\n",
       "    .dataframe thead th {\n",
       "        text-align: right;\n",
       "    }\n",
       "</style>\n",
       "<table border=\"1\" class=\"dataframe\">\n",
       "  <thead>\n",
       "    <tr style=\"text-align: right;\">\n",
       "      <th></th>\n",
       "      <th>preg</th>\n",
       "      <th>plas</th>\n",
       "      <th>pres</th>\n",
       "      <th>skin</th>\n",
       "      <th>test</th>\n",
       "      <th>mass</th>\n",
       "      <th>pedi</th>\n",
       "      <th>age</th>\n",
       "      <th>class</th>\n",
       "    </tr>\n",
       "  </thead>\n",
       "  <tbody>\n",
       "    <tr>\n",
       "      <th>0</th>\n",
       "      <td>6</td>\n",
       "      <td>148</td>\n",
       "      <td>72</td>\n",
       "      <td>35</td>\n",
       "      <td>0</td>\n",
       "      <td>33.6</td>\n",
       "      <td>0.627</td>\n",
       "      <td>50</td>\n",
       "      <td>1</td>\n",
       "    </tr>\n",
       "    <tr>\n",
       "      <th>1</th>\n",
       "      <td>1</td>\n",
       "      <td>85</td>\n",
       "      <td>66</td>\n",
       "      <td>29</td>\n",
       "      <td>0</td>\n",
       "      <td>26.6</td>\n",
       "      <td>0.351</td>\n",
       "      <td>31</td>\n",
       "      <td>0</td>\n",
       "    </tr>\n",
       "    <tr>\n",
       "      <th>2</th>\n",
       "      <td>8</td>\n",
       "      <td>183</td>\n",
       "      <td>64</td>\n",
       "      <td>0</td>\n",
       "      <td>0</td>\n",
       "      <td>23.3</td>\n",
       "      <td>0.672</td>\n",
       "      <td>32</td>\n",
       "      <td>1</td>\n",
       "    </tr>\n",
       "    <tr>\n",
       "      <th>3</th>\n",
       "      <td>1</td>\n",
       "      <td>89</td>\n",
       "      <td>66</td>\n",
       "      <td>23</td>\n",
       "      <td>94</td>\n",
       "      <td>28.1</td>\n",
       "      <td>0.167</td>\n",
       "      <td>21</td>\n",
       "      <td>0</td>\n",
       "    </tr>\n",
       "    <tr>\n",
       "      <th>4</th>\n",
       "      <td>0</td>\n",
       "      <td>137</td>\n",
       "      <td>40</td>\n",
       "      <td>35</td>\n",
       "      <td>168</td>\n",
       "      <td>43.1</td>\n",
       "      <td>2.288</td>\n",
       "      <td>33</td>\n",
       "      <td>1</td>\n",
       "    </tr>\n",
       "  </tbody>\n",
       "</table>\n",
       "</div>"
      ],
      "text/plain": [
       "   preg  plas  pres  skin  test  mass   pedi  age  class\n",
       "0     6   148    72    35     0  33.6  0.627   50      1\n",
       "1     1    85    66    29     0  26.6  0.351   31      0\n",
       "2     8   183    64     0     0  23.3  0.672   32      1\n",
       "3     1    89    66    23    94  28.1  0.167   21      0\n",
       "4     0   137    40    35   168  43.1  2.288   33      1"
      ]
     },
     "execution_count": 4,
     "metadata": {},
     "output_type": "execute_result"
    }
   ],
   "source": [
    "df.head()"
   ]
  },
  {
   "cell_type": "code",
   "execution_count": 5,
   "id": "897504e2",
   "metadata": {},
   "outputs": [],
   "source": [
    "target = 'class'"
   ]
  },
  {
   "cell_type": "code",
   "execution_count": 6,
   "id": "6e0026bb",
   "metadata": {},
   "outputs": [
    {
     "data": {
      "text/plain": [
       "0    500\n",
       "1    268\n",
       "Name: class, dtype: int64"
      ]
     },
     "execution_count": 6,
     "metadata": {},
     "output_type": "execute_result"
    }
   ],
   "source": [
    "df[target].value_counts()"
   ]
  },
  {
   "cell_type": "code",
   "execution_count": 7,
   "id": "7e3ed68d",
   "metadata": {},
   "outputs": [],
   "source": [
    "import matplotlib.pyplot as plt\n",
    "%matplotlib inline\n",
    "import seaborn as sns\n",
    "import numpy as np"
   ]
  },
  {
   "cell_type": "code",
   "execution_count": 8,
   "id": "ada4969f",
   "metadata": {},
   "outputs": [
    {
     "data": {
      "image/png": "[encoded data removed]",
      "text/plain": [
       "<Figure size 432x288 with 2 Axes>"
      ]
     },
     "metadata": {
      "needs_background": "light"
     },
     "output_type": "display_data"
    }
   ],
   "source": [
    "sns.heatmap(data=df.corr(),annot=True,vmin=-1,vmax=1,linewidths=1,fmt='.1g',mask =np.triu(df.corr()))\n",
    "plt.show()"
   ]
  },
  {
   "cell_type": "code",
   "execution_count": 9,
   "id": "3e138780",
   "metadata": {},
   "outputs": [
    {
     "data": {
      "text/plain": [
       "['preg', 'plas', 'pres', 'skin', 'test', 'mass', 'pedi', 'age', 'class']"
      ]
     },
     "execution_count": 9,
     "metadata": {},
     "output_type": "execute_result"
    }
   ],
   "source": [
    "list(df)"
   ]
  },
  {
   "cell_type": "code",
   "execution_count": 10,
   "id": "9f3f4057",
   "metadata": {},
   "outputs": [],
   "source": [
    "x = df.drop(target,axis=1)\n",
    "y = df[target]"
   ]
  },
  {
   "cell_type": "code",
   "execution_count": 11,
   "id": "b1bacc97",
   "metadata": {},
   "outputs": [],
   "source": [
    "from statsmodels.stats.outliers_influence import variance_inflation_factor"
   ]
  },
  {
   "cell_type": "code",
   "execution_count": 12,
   "id": "6ebc1cc0",
   "metadata": {},
   "outputs": [
    {
     "data": {
      "text/html": [
       "<div>\n",
       "<style scoped>\n",
       "    .dataframe tbody tr th:only-of-type {\n",
       "        vertical-align: middle;\n",
       "    }\n",
       "\n",
       "    .dataframe tbody tr th {\n",
       "        vertical-align: top;\n",
       "    }\n",
       "\n",
       "    .dataframe thead th {\n",
       "        text-align: right;\n",
       "    }\n",
       "</style>\n",
       "<table border=\"1\" class=\"dataframe\">\n",
       "  <thead>\n",
       "    <tr style=\"text-align: right;\">\n",
       "      <th></th>\n",
       "      <th>col</th>\n",
       "      <th>imp</th>\n",
       "    </tr>\n",
       "  </thead>\n",
       "  <tbody>\n",
       "    <tr>\n",
       "      <th>0</th>\n",
       "      <td>preg</td>\n",
       "      <td>3.0</td>\n",
       "    </tr>\n",
       "    <tr>\n",
       "      <th>1</th>\n",
       "      <td>plas</td>\n",
       "      <td>17.0</td>\n",
       "    </tr>\n",
       "    <tr>\n",
       "      <th>2</th>\n",
       "      <td>pres</td>\n",
       "      <td>15.0</td>\n",
       "    </tr>\n",
       "    <tr>\n",
       "      <th>3</th>\n",
       "      <td>skin</td>\n",
       "      <td>4.0</td>\n",
       "    </tr>\n",
       "    <tr>\n",
       "      <th>4</th>\n",
       "      <td>test</td>\n",
       "      <td>2.0</td>\n",
       "    </tr>\n",
       "    <tr>\n",
       "      <th>5</th>\n",
       "      <td>mass</td>\n",
       "      <td>18.0</td>\n",
       "    </tr>\n",
       "    <tr>\n",
       "      <th>6</th>\n",
       "      <td>pedi</td>\n",
       "      <td>3.0</td>\n",
       "    </tr>\n",
       "    <tr>\n",
       "      <th>7</th>\n",
       "      <td>age</td>\n",
       "      <td>13.0</td>\n",
       "    </tr>\n",
       "  </tbody>\n",
       "</table>\n",
       "</div>"
      ],
      "text/plain": [
       "    col   imp\n",
       "0  preg   3.0\n",
       "1  plas  17.0\n",
       "2  pres  15.0\n",
       "3  skin   4.0\n",
       "4  test   2.0\n",
       "5  mass  18.0\n",
       "6  pedi   3.0\n",
       "7   age  13.0"
      ]
     },
     "execution_count": 12,
     "metadata": {},
     "output_type": "execute_result"
    }
   ],
   "source": [
    "VIF = pd.DataFrame()\n",
    "VIF['col']= list(x)\n",
    "VIF['imp']= [variance_inflation_factor(x.values,i) for i in range(x.shape[1])]\n",
    "round(VIF)"
   ]
  },
  {
   "cell_type": "code",
   "execution_count": 13,
   "id": "deff2df0",
   "metadata": {},
   "outputs": [],
   "source": [
    "from sklearn.model_selection import train_test_split"
   ]
  },
  {
   "cell_type": "code",
   "execution_count": 14,
   "id": "8a50b1b9",
   "metadata": {},
   "outputs": [],
   "source": [
    "x_train,x_test,y_train,y_test = train_test_split(x,y,test_size=.3,random_state=100)"
   ]
  },
  {
   "cell_type": "code",
   "execution_count": 16,
   "id": "8cad8bf8",
   "metadata": {},
   "outputs": [],
   "source": [
    "from sklearn.naive_bayes import GaussianNB"
   ]
  },
  {
   "cell_type": "code",
   "execution_count": 17,
   "id": "0acef15d",
   "metadata": {},
   "outputs": [],
   "source": [
    "model = GaussianNB()"
   ]
  },
  {
   "cell_type": "code",
   "execution_count": 18,
   "id": "8ecd0f34",
   "metadata": {},
   "outputs": [
    {
     "data": {
      "text/plain": [
       "GaussianNB()"
      ]
     },
     "execution_count": 18,
     "metadata": {},
     "output_type": "execute_result"
    }
   ],
   "source": [
    "model.fit(x_train,y_train)"
   ]
  },
  {
   "cell_type": "code",
   "execution_count": 19,
   "id": "66ba3087",
   "metadata": {},
   "outputs": [
    {
     "data": {
      "text/plain": [
       "array([0, 0, 1, 0, 1, 1, 1, 0, 1, 0, 0, 1, 1, 0, 1, 1, 0, 0, 0, 0, 0, 0,\n",
       "       1, 1, 0, 1, 1, 0, 0, 0, 0, 1, 0, 0, 0, 0, 1, 0, 0, 0, 0, 1, 1, 0,\n",
       "       0, 1, 0, 0, 1, 1, 0, 0, 0, 1, 1, 1, 0, 0, 1, 0, 0, 0, 0, 0, 0, 0,\n",
       "       0, 0, 0, 0, 0, 1, 0, 0, 0, 0, 0, 1, 0, 0, 0, 0, 0, 0, 0, 0, 0, 1,\n",
       "       1, 0, 1, 0, 1, 0, 0, 1, 0, 1, 0, 0, 1, 0, 1, 0, 0, 1, 1, 0, 0, 1,\n",
       "       0, 0, 0, 0, 0, 0, 1, 1, 0, 0, 0, 1, 0, 0, 0, 0, 0, 0, 0, 0, 1, 1,\n",
       "       1, 0, 0, 1, 0, 0, 0, 0, 1, 1, 0, 1, 0, 0, 0, 0, 0, 0, 0, 0, 0, 0,\n",
       "       1, 0, 0, 0, 1, 0, 0, 0, 0, 0, 0, 0, 1, 0, 0, 0, 0, 1, 0, 0, 1, 1,\n",
       "       1, 0, 1, 0, 0, 1, 0, 0, 1, 0, 0, 1, 1, 0, 1, 0, 1, 0, 0, 0, 0, 0,\n",
       "       1, 1, 1, 1, 0, 0, 1, 0, 1, 0, 0, 0, 0, 0, 1, 1, 1, 1, 0, 0, 1, 0,\n",
       "       1, 1, 0, 0, 0, 0, 1, 0, 1, 1, 0], dtype=int64)"
      ]
     },
     "execution_count": 19,
     "metadata": {},
     "output_type": "execute_result"
    }
   ],
   "source": [
    "model.predict(x_test)"
   ]
  },
  {
   "cell_type": "code",
   "execution_count": 20,
   "id": "9b91e74e",
   "metadata": {},
   "outputs": [
    {
     "name": "stdout",
     "output_type": "stream",
     "text": [
      "              precision    recall  f1-score   support\n",
      "\n",
      "           0       0.78      0.80      0.79       150\n",
      "           1       0.61      0.58      0.59        81\n",
      "\n",
      "    accuracy                           0.72       231\n",
      "   macro avg       0.69      0.69      0.69       231\n",
      "weighted avg       0.72      0.72      0.72       231\n",
      "\n"
     ]
    }
   ],
   "source": [
    "from sklearn import metrics\n",
    "print(metrics.classification_report(y_test,model.predict(x_test)))"
   ]
  },
  {
   "cell_type": "code",
   "execution_count": 22,
   "id": "32d1fc26",
   "metadata": {},
   "outputs": [],
   "source": [
    "fpr,tpr,threshold = metrics.roc_curve(y_test,model.predict(x_test))"
   ]
  },
  {
   "cell_type": "code",
   "execution_count": 23,
   "id": "3dc21717",
   "metadata": {},
   "outputs": [
    {
     "data": {
      "text/plain": [
       "0.6901234567901234"
      ]
     },
     "execution_count": 23,
     "metadata": {},
     "output_type": "execute_result"
    }
   ],
   "source": [
    "metrics.auc(fpr,tpr)"
   ]
  },
  {
   "cell_type": "code",
   "execution_count": 24,
   "id": "6ecd0ba8",
   "metadata": {},
   "outputs": [
    {
     "data": {
      "text/plain": [
       "Text(0.5, 1.0, 'ROC')"
      ]
     },
     "execution_count": 24,
     "metadata": {},
     "output_type": "execute_result"
    },
    {
     "data": {
      "image/png": "[encoded data removed]",
      "text/plain": [
       "<Figure size 432x288 with 1 Axes>"
      ]
     },
     "metadata": {
      "needs_background": "light"
     },
     "output_type": "display_data"
    }
   ],
   "source": [
    "plt.figure()\n",
    "plt.plot(fpr,tpr)\n",
    "plt.xlim([0.0,1.0])\n",
    "plt.ylim([0.0,1.0])\n",
    "plt.xlabel(\"fpr\")\n",
    "plt.ylabel(\"tpr\")\n",
    "plt.title(\"ROC\")"
   ]
  },
  {
   "cell_type": "code",
   "execution_count": 25,
   "id": "36d113ca",
   "metadata": {},
   "outputs": [
    {
     "data": {
      "text/plain": [
       "array([[9.18548403e-01, 8.14515969e-02],\n",
       "       [9.67898987e-01, 3.21010132e-02],\n",
       "       [1.28814154e-01, 8.71185846e-01],\n",
       "       [8.72320965e-01, 1.27679035e-01],\n",
       "       [4.68302645e-01, 5.31697355e-01],\n",
       "       [2.50667487e-01, 7.49332513e-01],\n",
       "       [7.08032805e-04, 9.99291967e-01],\n",
       "       [9.52770117e-01, 4.72298829e-02],\n",
       "       [1.18401915e-02, 9.88159809e-01],\n",
       "       [9.23383066e-01, 7.66169336e-02],\n",
       "       [9.37523427e-01, 6.24765728e-02],\n",
       "       [4.44436479e-02, 9.55556352e-01],\n",
       "       [1.04084321e-01, 8.95915679e-01],\n",
       "       [7.98191583e-01, 2.01808417e-01],\n",
       "       [3.94036088e-01, 6.05963912e-01],\n",
       "       [3.90482890e-01, 6.09517110e-01],\n",
       "       [9.84546387e-01, 1.54536125e-02],\n",
       "       [8.78620375e-01, 1.21379625e-01],\n",
       "       [7.30660188e-01, 2.69339812e-01],\n",
       "       [7.96729273e-01, 2.03270727e-01],\n",
       "       [5.77369952e-01, 4.22630048e-01],\n",
       "       [9.96642474e-01, 3.35752625e-03],\n",
       "       [1.27850040e-01, 8.72149960e-01],\n",
       "       [4.32555896e-03, 9.95674441e-01],\n",
       "       [9.35697677e-01, 6.43023231e-02],\n",
       "       [6.33341239e-02, 9.36665876e-01],\n",
       "       [8.74303986e-03, 9.91256960e-01],\n",
       "       [8.06136163e-01, 1.93863837e-01],\n",
       "       [8.27410025e-01, 1.72589975e-01],\n",
       "       [5.35348573e-01, 4.64651427e-01],\n",
       "       [9.84688369e-01, 1.53116306e-02],\n",
       "       [2.16286118e-03, 9.97837139e-01],\n",
       "       [8.15854711e-01, 1.84145289e-01],\n",
       "       [5.30937080e-01, 4.69062920e-01],\n",
       "       [7.25944315e-01, 2.74055685e-01],\n",
       "       [8.12881327e-01, 1.87118673e-01],\n",
       "       [1.17218630e-03, 9.98827814e-01],\n",
       "       [9.93034922e-01, 6.96507765e-03],\n",
       "       [8.69461957e-01, 1.30538043e-01],\n",
       "       [9.17700769e-01, 8.22992310e-02],\n",
       "       [8.20142388e-01, 1.79857612e-01],\n",
       "       [1.28824472e-01, 8.71175528e-01],\n",
       "       [2.99555293e-01, 7.00444707e-01],\n",
       "       [9.68882238e-01, 3.11177621e-02],\n",
       "       [7.85513757e-01, 2.14486243e-01],\n",
       "       [3.39120095e-02, 9.66087990e-01],\n",
       "       [9.57346283e-01, 4.26537173e-02],\n",
       "       [8.52126223e-01, 1.47873777e-01],\n",
       "       [2.85585897e-01, 7.14414103e-01],\n",
       "       [6.69708612e-02, 9.33029139e-01],\n",
       "       [5.62522986e-01, 4.37477014e-01],\n",
       "       [9.88142033e-01, 1.18579666e-02],\n",
       "       [7.05146563e-01, 2.94853437e-01],\n",
       "       [2.56125620e-01, 7.43874380e-01],\n",
       "       [3.62698376e-01, 6.37301624e-01],\n",
       "       [1.66871653e-02, 9.83312835e-01],\n",
       "       [9.80556698e-01, 1.94433018e-02],\n",
       "       [9.51687616e-01, 4.83123835e-02],\n",
       "       [1.90167698e-01, 8.09832302e-01],\n",
       "       [9.69204744e-01, 3.07952562e-02],\n",
       "       [9.42523283e-01, 5.74767167e-02],\n",
       "       [8.63724034e-01, 1.36275966e-01],\n",
       "       [7.82537410e-01, 2.17462590e-01],\n",
       "       [9.10096214e-01, 8.99037863e-02],\n",
       "       [6.84722461e-01, 3.15277539e-01],\n",
       "       [9.27297482e-01, 7.27025185e-02],\n",
       "       [9.64739278e-01, 3.52607225e-02],\n",
       "       [9.90369991e-01, 9.63000851e-03],\n",
       "       [9.11796303e-01, 8.82036967e-02],\n",
       "       [9.89381180e-01, 1.06188203e-02],\n",
       "       [9.80738600e-01, 1.92614001e-02],\n",
       "       [6.56299876e-02, 9.34370012e-01],\n",
       "       [9.52006252e-01, 4.79937483e-02],\n",
       "       [9.25961136e-01, 7.40388642e-02],\n",
       "       [6.22507192e-01, 3.77492808e-01],\n",
       "       [5.59882449e-01, 4.40117551e-01],\n",
       "       [6.91233758e-01, 3.08766242e-01],\n",
       "       [1.61585740e-01, 8.38414260e-01],\n",
       "       [7.38419035e-01, 2.61580965e-01],\n",
       "       [8.34219859e-01, 1.65780141e-01],\n",
       "       [9.29760615e-01, 7.02393848e-02],\n",
       "       [7.83034675e-01, 2.16965325e-01],\n",
       "       [9.53414809e-01, 4.65851911e-02],\n",
       "       [9.32286902e-01, 6.77130981e-02],\n",
       "       [6.71621248e-01, 3.28378752e-01],\n",
       "       [5.43012709e-01, 4.56987291e-01],\n",
       "       [7.04791517e-01, 2.95208483e-01],\n",
       "       [4.84779001e-01, 5.15220999e-01],\n",
       "       [1.96293042e-03, 9.98037070e-01],\n",
       "       [6.54024519e-01, 3.45975481e-01],\n",
       "       [1.43488306e-01, 8.56511694e-01],\n",
       "       [9.68585086e-01, 3.14149143e-02],\n",
       "       [4.94518573e-01, 5.05481427e-01],\n",
       "       [8.35248528e-01, 1.64751472e-01],\n",
       "       [9.88002634e-01, 1.19973663e-02],\n",
       "       [9.32375965e-02, 9.06762404e-01],\n",
       "       [9.66286862e-01, 3.37131377e-02],\n",
       "       [3.14710079e-01, 6.85289921e-01],\n",
       "       [7.76284537e-01, 2.23715463e-01],\n",
       "       [9.71581137e-01, 2.84188633e-02],\n",
       "       [1.57364821e-01, 8.42635179e-01],\n",
       "       [8.75500449e-01, 1.24499551e-01],\n",
       "       [1.41048611e-03, 9.98589514e-01],\n",
       "       [7.32471460e-01, 2.67528540e-01],\n",
       "       [9.58362667e-01, 4.16373329e-02],\n",
       "       [4.89733535e-02, 9.51026646e-01],\n",
       "       [2.14734646e-01, 7.85265354e-01],\n",
       "       [5.30354572e-01, 4.69645428e-01],\n",
       "       [9.56490447e-01, 4.35095527e-02],\n",
       "       [4.40634605e-01, 5.59365395e-01],\n",
       "       [9.50805547e-01, 4.91944534e-02],\n",
       "       [9.83907983e-01, 1.60920174e-02],\n",
       "       [6.68058412e-01, 3.31941588e-01],\n",
       "       [9.39862072e-01, 6.01379281e-02],\n",
       "       [6.79511214e-01, 3.20488786e-01],\n",
       "       [9.42048561e-01, 5.79514395e-02],\n",
       "       [6.01844594e-03, 9.93981554e-01],\n",
       "       [4.18989430e-01, 5.81010570e-01],\n",
       "       [9.72899141e-01, 2.71008590e-02],\n",
       "       [6.34052936e-01, 3.65947064e-01],\n",
       "       [9.76002353e-01, 2.39976474e-02],\n",
       "       [1.92876710e-02, 9.80712329e-01],\n",
       "       [9.53225773e-01, 4.67742270e-02],\n",
       "       [7.98530297e-01, 2.01469703e-01],\n",
       "       [7.37383227e-01, 2.62616773e-01],\n",
       "       [9.88299214e-01, 1.17007859e-02],\n",
       "       [9.78866289e-01, 2.11337110e-02],\n",
       "       [9.57112217e-01, 4.28877832e-02],\n",
       "       [9.70979316e-01, 2.90206836e-02],\n",
       "       [8.18427589e-01, 1.81572411e-01],\n",
       "       [3.58288450e-01, 6.41711550e-01],\n",
       "       [1.94477909e-01, 8.05522091e-01],\n",
       "       [5.65091435e-02, 9.43490856e-01],\n",
       "       [5.22180228e-01, 4.77819772e-01],\n",
       "       [7.97509226e-01, 2.02490774e-01],\n",
       "       [1.69463656e-02, 9.83053634e-01],\n",
       "       [9.46536744e-01, 5.34632558e-02],\n",
       "       [6.84377651e-01, 3.15622349e-01],\n",
       "       [9.99507714e-01, 4.92285647e-04],\n",
       "       [7.54098664e-01, 2.45901336e-01],\n",
       "       [6.59769724e-03, 9.93402303e-01],\n",
       "       [1.95186051e-02, 9.80481395e-01],\n",
       "       [9.52910195e-01, 4.70898050e-02],\n",
       "       [4.55050269e-01, 5.44949731e-01],\n",
       "       [7.76363857e-01, 2.23636143e-01],\n",
       "       [9.69950179e-01, 3.00498207e-02],\n",
       "       [9.75063867e-01, 2.49361335e-02],\n",
       "       [8.82211807e-01, 1.17788193e-01],\n",
       "       [9.84436263e-01, 1.55637369e-02],\n",
       "       [9.91674060e-01, 8.32594011e-03],\n",
       "       [8.47522552e-01, 1.52477448e-01],\n",
       "       [9.64435925e-01, 3.55640753e-02],\n",
       "       [6.31149715e-01, 3.68850285e-01],\n",
       "       [8.02689878e-01, 1.97310122e-01],\n",
       "       [1.52867536e-01, 8.47132464e-01],\n",
       "       [7.88740998e-01, 2.11259002e-01],\n",
       "       [8.90001542e-01, 1.09998458e-01],\n",
       "       [8.16104883e-01, 1.83895117e-01],\n",
       "       [2.86158719e-01, 7.13841281e-01],\n",
       "       [9.38805178e-01, 6.11948215e-02],\n",
       "       [9.64587847e-01, 3.54121534e-02],\n",
       "       [8.80640638e-01, 1.19359362e-01],\n",
       "       [9.53734008e-01, 4.62659917e-02],\n",
       "       [9.01355554e-01, 9.86444456e-02],\n",
       "       [8.54365693e-01, 1.45634307e-01],\n",
       "       [8.90983796e-01, 1.09016204e-01],\n",
       "       [1.59858587e-02, 9.84014141e-01],\n",
       "       [9.94669361e-01, 5.33063949e-03],\n",
       "       [9.53578396e-01, 4.64216037e-02],\n",
       "       [9.84182717e-01, 1.58172827e-02],\n",
       "       [8.73363911e-01, 1.26636089e-01],\n",
       "       [2.06824993e-01, 7.93175007e-01],\n",
       "       [9.04312601e-01, 9.56873988e-02],\n",
       "       [9.88312585e-01, 1.16874150e-02],\n",
       "       [1.14177720e-01, 8.85822280e-01],\n",
       "       [3.09231387e-01, 6.90768613e-01],\n",
       "       [3.36210525e-03, 9.96637895e-01],\n",
       "       [9.81532643e-01, 1.84673573e-02],\n",
       "       [9.54070987e-03, 9.90459290e-01],\n",
       "       [9.54973625e-01, 4.50263748e-02],\n",
       "       [5.06937889e-01, 4.93062111e-01],\n",
       "       [4.26691179e-01, 5.73308821e-01],\n",
       "       [6.11611847e-01, 3.88388153e-01],\n",
       "       [9.17909212e-01, 8.20907882e-02],\n",
       "       [1.60077536e-01, 8.39922464e-01],\n",
       "       [9.08396347e-01, 9.16036530e-02],\n",
       "       [9.25704511e-01, 7.42954886e-02],\n",
       "       [3.14307551e-01, 6.85692449e-01],\n",
       "       [1.54031264e-01, 8.45968736e-01],\n",
       "       [8.42511605e-01, 1.57488395e-01],\n",
       "       [1.82371364e-02, 9.81762864e-01],\n",
       "       [9.78859180e-01, 2.11408196e-02],\n",
       "       [6.47857090e-04, 9.99352143e-01],\n",
       "       [8.17905688e-01, 1.82094312e-01],\n",
       "       [9.51355618e-01, 4.86443822e-02],\n",
       "       [9.66736589e-01, 3.32634109e-02],\n",
       "       [9.80631431e-01, 1.93685693e-02],\n",
       "       [6.64341677e-01, 3.35658323e-01],\n",
       "       [3.46836067e-01, 6.53163933e-01],\n",
       "       [3.55207165e-01, 6.44792835e-01],\n",
       "       [1.13383681e-06, 9.99998866e-01],\n",
       "       [1.72198331e-02, 9.82780167e-01],\n",
       "       [8.12298016e-01, 1.87701984e-01],\n",
       "       [9.04092278e-01, 9.59077218e-02],\n",
       "       [1.66582080e-01, 8.33417920e-01],\n",
       "       [7.55666940e-01, 2.44333060e-01],\n",
       "       [2.34943382e-01, 7.65056618e-01],\n",
       "       [7.53016322e-01, 2.46983678e-01],\n",
       "       [9.92178050e-01, 7.82195008e-03],\n",
       "       [9.17688308e-01, 8.23116923e-02],\n",
       "       [9.70998081e-01, 2.90019190e-02],\n",
       "       [8.82632482e-01, 1.17367518e-01],\n",
       "       [2.76696593e-02, 9.72330341e-01],\n",
       "       [3.02580743e-01, 6.97419257e-01],\n",
       "       [3.28995945e-01, 6.71004055e-01],\n",
       "       [1.83764265e-01, 8.16235735e-01],\n",
       "       [8.76841820e-01, 1.23158180e-01],\n",
       "       [6.74726448e-01, 3.25273552e-01],\n",
       "       [4.28773779e-01, 5.71226221e-01],\n",
       "       [9.56163660e-01, 4.38363398e-02],\n",
       "       [3.15639840e-02, 9.68436016e-01],\n",
       "       [6.32280541e-02, 9.36771946e-01],\n",
       "       [8.01172541e-01, 1.98827459e-01],\n",
       "       [7.45941157e-01, 2.54058843e-01],\n",
       "       [9.75821748e-01, 2.41782525e-02],\n",
       "       [9.78296316e-01, 2.17036843e-02],\n",
       "       [4.34616949e-03, 9.95653831e-01],\n",
       "       [8.81650817e-01, 1.18349183e-01],\n",
       "       [6.45393824e-04, 9.99354606e-01],\n",
       "       [2.66898109e-01, 7.33101891e-01],\n",
       "       [9.95042848e-01, 4.95715219e-03]])"
      ]
     },
     "execution_count": 25,
     "metadata": {},
     "output_type": "execute_result"
    }
   ],
   "source": [
    "model.predict_proba(x_test)"
   ]
  },
  {
   "cell_type": "code",
   "execution_count": null,
   "id": "f115a462",
   "metadata": {},
   "outputs": [],
   "source": []
  }
 ],
 "metadata": {
  "kernelspec": {
   "display_name": "Python 3",
   "language": "python",
   "name": "python3"
  },
  "language_info": {
   "codemirror_mode": {
    "name": "ipython",
    "version": 3
   },
   "file_extension": ".py",
   "mimetype": "text/x-python",
   "name": "python",
   "nbconvert_exporter": "python",
   "pygments_lexer": "ipython3",
   "version": "3.6.13"
  }
 },
 "nbformat": 4,
 "nbformat_minor": 5
}
