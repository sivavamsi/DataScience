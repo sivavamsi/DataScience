{
 "cells": [
  {
   "cell_type": "code",
   "execution_count": 3,
   "metadata": {},
   "outputs": [],
   "source": [
    "import pandas as pd\n",
    "from sklearn import metrics\n",
    "import numpy as np\n",
    "import matplotlib.pyplot as plt\n",
    "%matplotlib inline\n",
    "from statsmodels.stats.outliers_influence import variance_inflation_factor\n",
    "from sklearn.model_selection import train_test_split\n",
    "from sklearn.linear_model import LogisticRegression\n",
    "import seaborn as sns"
   ]
  },
  {
   "cell_type": "code",
   "execution_count": 4,
   "metadata": {},
   "outputs": [],
   "source": [
    "df = pd.read_csv(\"parole1.1.csv\")"
   ]
  },
  {
   "cell_type": "code",
   "execution_count": 5,
   "metadata": {},
   "outputs": [
    {
     "data": {
      "text/html": [
       "<div>\n",
       "<style scoped>\n",
       "    .dataframe tbody tr th:only-of-type {\n",
       "        vertical-align: middle;\n",
       "    }\n",
       "\n",
       "    .dataframe tbody tr th {\n",
       "        vertical-align: top;\n",
       "    }\n",
       "\n",
       "    .dataframe thead th {\n",
       "        text-align: right;\n",
       "    }\n",
       "</style>\n",
       "<table border=\"1\" class=\"dataframe\">\n",
       "  <thead>\n",
       "    <tr style=\"text-align: right;\">\n",
       "      <th></th>\n",
       "      <th>male</th>\n",
       "      <th>race</th>\n",
       "      <th>age</th>\n",
       "      <th>state</th>\n",
       "      <th>time.served</th>\n",
       "      <th>max.sentence</th>\n",
       "      <th>multiple.offenses</th>\n",
       "      <th>crime</th>\n",
       "      <th>violator</th>\n",
       "    </tr>\n",
       "  </thead>\n",
       "  <tbody>\n",
       "    <tr>\n",
       "      <th>0</th>\n",
       "      <td>1</td>\n",
       "      <td>1</td>\n",
       "      <td>33.2</td>\n",
       "      <td>1</td>\n",
       "      <td>5.5</td>\n",
       "      <td>18</td>\n",
       "      <td>0</td>\n",
       "      <td>4</td>\n",
       "      <td>0</td>\n",
       "    </tr>\n",
       "    <tr>\n",
       "      <th>1</th>\n",
       "      <td>0</td>\n",
       "      <td>1</td>\n",
       "      <td>39.7</td>\n",
       "      <td>1</td>\n",
       "      <td>5.4</td>\n",
       "      <td>12</td>\n",
       "      <td>0</td>\n",
       "      <td>3</td>\n",
       "      <td>0</td>\n",
       "    </tr>\n",
       "    <tr>\n",
       "      <th>2</th>\n",
       "      <td>1</td>\n",
       "      <td>2</td>\n",
       "      <td>29.5</td>\n",
       "      <td>1</td>\n",
       "      <td>5.6</td>\n",
       "      <td>12</td>\n",
       "      <td>0</td>\n",
       "      <td>3</td>\n",
       "      <td>0</td>\n",
       "    </tr>\n",
       "    <tr>\n",
       "      <th>3</th>\n",
       "      <td>1</td>\n",
       "      <td>1</td>\n",
       "      <td>22.4</td>\n",
       "      <td>1</td>\n",
       "      <td>5.7</td>\n",
       "      <td>18</td>\n",
       "      <td>0</td>\n",
       "      <td>1</td>\n",
       "      <td>0</td>\n",
       "    </tr>\n",
       "    <tr>\n",
       "      <th>4</th>\n",
       "      <td>1</td>\n",
       "      <td>2</td>\n",
       "      <td>21.6</td>\n",
       "      <td>1</td>\n",
       "      <td>5.4</td>\n",
       "      <td>12</td>\n",
       "      <td>0</td>\n",
       "      <td>1</td>\n",
       "      <td>0</td>\n",
       "    </tr>\n",
       "  </tbody>\n",
       "</table>\n",
       "</div>"
      ],
      "text/plain": [
       "   male  race   age  state  time.served  max.sentence  multiple.offenses  \\\n",
       "0     1     1  33.2      1          5.5            18                  0   \n",
       "1     0     1  39.7      1          5.4            12                  0   \n",
       "2     1     2  29.5      1          5.6            12                  0   \n",
       "3     1     1  22.4      1          5.7            18                  0   \n",
       "4     1     2  21.6      1          5.4            12                  0   \n",
       "\n",
       "   crime  violator  \n",
       "0      4         0  \n",
       "1      3         0  \n",
       "2      3         0  \n",
       "3      1         0  \n",
       "4      1         0  "
      ]
     },
     "execution_count": 5,
     "metadata": {},
     "output_type": "execute_result"
    }
   ],
   "source": [
    "df.head()"
   ]
  },
  {
   "cell_type": "code",
   "execution_count": 6,
   "metadata": {},
   "outputs": [
    {
     "name": "stdout",
     "output_type": "stream",
     "text": [
      "<class 'pandas.core.frame.DataFrame'>\n",
      "RangeIndex: 738 entries, 0 to 737\n",
      "Data columns (total 9 columns):\n",
      " #   Column             Non-Null Count  Dtype  \n",
      "---  ------             --------------  -----  \n",
      " 0   male               738 non-null    int64  \n",
      " 1   race               738 non-null    int64  \n",
      " 2   age                738 non-null    float64\n",
      " 3   state              738 non-null    int64  \n",
      " 4   time.served        738 non-null    float64\n",
      " 5   max.sentence       738 non-null    int64  \n",
      " 6   multiple.offenses  738 non-null    int64  \n",
      " 7   crime              738 non-null    int64  \n",
      " 8   violator           738 non-null    int64  \n",
      "dtypes: float64(2), int64(7)\n",
      "memory usage: 52.0 KB\n"
     ]
    }
   ],
   "source": [
    "df.info() #no null values"
   ]
  },
  {
   "cell_type": "code",
   "execution_count": 7,
   "metadata": {},
   "outputs": [
    {
     "data": {
      "text/plain": [
       "male                   2\n",
       "race                   2\n",
       "age                  317\n",
       "state                  4\n",
       "time.served           93\n",
       "max.sentence          17\n",
       "multiple.offenses      2\n",
       "crime                  4\n",
       "violator               2\n",
       "dtype: int64"
      ]
     },
     "execution_count": 7,
     "metadata": {},
     "output_type": "execute_result"
    }
   ],
   "source": [
    "df.nunique()"
   ]
  },
  {
   "cell_type": "code",
   "execution_count": 8,
   "metadata": {},
   "outputs": [
    {
     "data": {
      "text/plain": [
       "Index(['male', 'race', 'age', 'state', 'time.served', 'max.sentence',\n",
       "       'multiple.offenses', 'crime', 'violator'],\n",
       "      dtype='object')"
      ]
     },
     "execution_count": 8,
     "metadata": {},
     "output_type": "execute_result"
    }
   ],
   "source": [
    "df.columns"
   ]
  },
  {
   "cell_type": "markdown",
   "metadata": {},
   "source": [
    "# DataType conversion"
   ]
  },
  {
   "cell_type": "code",
   "execution_count": 9,
   "metadata": {},
   "outputs": [],
   "source": [
    "df['male'] = df['male'].astype(object)\n",
    "df[\"race\"]= df['race'].astype(object)\n",
    "df[\"multiple.offenses\"] = df['multiple.offenses'].astype(object)\n",
    "df[\"crime\"]=df['crime'].astype(object)\n",
    "df['violator']=df['violator'].astype(object)\n",
    "df['state']=df['state'].astype(object)"
   ]
  },
  {
   "cell_type": "code",
   "execution_count": 10,
   "metadata": {},
   "outputs": [
    {
     "name": "stdout",
     "output_type": "stream",
     "text": [
      "<class 'pandas.core.frame.DataFrame'>\n",
      "RangeIndex: 738 entries, 0 to 737\n",
      "Data columns (total 9 columns):\n",
      " #   Column             Non-Null Count  Dtype  \n",
      "---  ------             --------------  -----  \n",
      " 0   male               738 non-null    object \n",
      " 1   race               738 non-null    object \n",
      " 2   age                738 non-null    float64\n",
      " 3   state              738 non-null    object \n",
      " 4   time.served        738 non-null    float64\n",
      " 5   max.sentence       738 non-null    int64  \n",
      " 6   multiple.offenses  738 non-null    object \n",
      " 7   crime              738 non-null    object \n",
      " 8   violator           738 non-null    object \n",
      "dtypes: float64(2), int64(1), object(6)\n",
      "memory usage: 52.0+ KB\n"
     ]
    }
   ],
   "source": [
    "df.info()"
   ]
  },
  {
   "cell_type": "code",
   "execution_count": 12,
   "metadata": {},
   "outputs": [],
   "source": [
    "df_encode = pd.get_dummies(df,drop_first=True)"
   ]
  },
  {
   "cell_type": "code",
   "execution_count": 13,
   "metadata": {},
   "outputs": [
    {
     "data": {
      "text/plain": [
       "['age',\n",
       " 'time.served',\n",
       " 'max.sentence',\n",
       " 'male_1',\n",
       " 'race_2',\n",
       " 'state_2',\n",
       " 'state_3',\n",
       " 'state_4',\n",
       " 'multiple.offenses_1',\n",
       " 'crime_2',\n",
       " 'crime_3',\n",
       " 'crime_4',\n",
       " 'violator_1']"
      ]
     },
     "execution_count": 13,
     "metadata": {},
     "output_type": "execute_result"
    }
   ],
   "source": [
    "list(df_encode)"
   ]
  },
  {
   "cell_type": "code",
   "execution_count": 15,
   "metadata": {},
   "outputs": [
    {
     "data": {
      "image/png": "[encoded data removed]",
      "text/plain": [
       "<Figure size 432x288 with 2 Axes>"
      ]
     },
     "metadata": {
      "needs_background": "light"
     },
     "output_type": "display_data"
    }
   ],
   "source": [
    "sns.heatmap(data=df_encode.corr(),annot=True,fmt=\".1g\",vmax=1,vmin=-1,linewidths=1,mask=np.triu(df_encode.corr()))\n",
    "plt.show()"
   ]
  },
  {
   "cell_type": "code",
   "execution_count": 16,
   "metadata": {},
   "outputs": [],
   "source": [
    "x=df_encode.drop('violator_1',axis=1)\n",
    "y = df_encode['violator_1']\n"
   ]
  },
  {
   "cell_type": "code",
   "execution_count": 17,
   "metadata": {},
   "outputs": [
    {
     "data": {
      "text/html": [
       "<div>\n",
       "<style scoped>\n",
       "    .dataframe tbody tr th:only-of-type {\n",
       "        vertical-align: middle;\n",
       "    }\n",
       "\n",
       "    .dataframe tbody tr th {\n",
       "        vertical-align: top;\n",
       "    }\n",
       "\n",
       "    .dataframe thead th {\n",
       "        text-align: right;\n",
       "    }\n",
       "</style>\n",
       "<table border=\"1\" class=\"dataframe\">\n",
       "  <thead>\n",
       "    <tr style=\"text-align: right;\">\n",
       "      <th></th>\n",
       "      <th>VIF</th>\n",
       "      <th>columns</th>\n",
       "    </tr>\n",
       "  </thead>\n",
       "  <tbody>\n",
       "    <tr>\n",
       "      <th>0</th>\n",
       "      <td>10.0</td>\n",
       "      <td>age</td>\n",
       "    </tr>\n",
       "    <tr>\n",
       "      <th>1</th>\n",
       "      <td>6.0</td>\n",
       "      <td>time.served</td>\n",
       "    </tr>\n",
       "    <tr>\n",
       "      <th>2</th>\n",
       "      <td>15.0</td>\n",
       "      <td>max.sentence</td>\n",
       "    </tr>\n",
       "    <tr>\n",
       "      <th>3</th>\n",
       "      <td>5.0</td>\n",
       "      <td>male_1</td>\n",
       "    </tr>\n",
       "    <tr>\n",
       "      <th>4</th>\n",
       "      <td>2.0</td>\n",
       "      <td>race_2</td>\n",
       "    </tr>\n",
       "    <tr>\n",
       "      <th>5</th>\n",
       "      <td>2.0</td>\n",
       "      <td>state_2</td>\n",
       "    </tr>\n",
       "    <tr>\n",
       "      <th>6</th>\n",
       "      <td>2.0</td>\n",
       "      <td>state_3</td>\n",
       "    </tr>\n",
       "    <tr>\n",
       "      <th>7</th>\n",
       "      <td>4.0</td>\n",
       "      <td>state_4</td>\n",
       "    </tr>\n",
       "    <tr>\n",
       "      <th>8</th>\n",
       "      <td>3.0</td>\n",
       "      <td>multiple.offenses_1</td>\n",
       "    </tr>\n",
       "    <tr>\n",
       "      <th>9</th>\n",
       "      <td>1.0</td>\n",
       "      <td>crime_2</td>\n",
       "    </tr>\n",
       "    <tr>\n",
       "      <th>10</th>\n",
       "      <td>2.0</td>\n",
       "      <td>crime_3</td>\n",
       "    </tr>\n",
       "    <tr>\n",
       "      <th>11</th>\n",
       "      <td>1.0</td>\n",
       "      <td>crime_4</td>\n",
       "    </tr>\n",
       "  </tbody>\n",
       "</table>\n",
       "</div>"
      ],
      "text/plain": [
       "     VIF              columns\n",
       "0   10.0                  age\n",
       "1    6.0          time.served\n",
       "2   15.0         max.sentence\n",
       "3    5.0               male_1\n",
       "4    2.0               race_2\n",
       "5    2.0              state_2\n",
       "6    2.0              state_3\n",
       "7    4.0              state_4\n",
       "8    3.0  multiple.offenses_1\n",
       "9    1.0              crime_2\n",
       "10   2.0              crime_3\n",
       "11   1.0              crime_4"
      ]
     },
     "execution_count": 17,
     "metadata": {},
     "output_type": "execute_result"
    }
   ],
   "source": [
    "VIF = pd.DataFrame()\n",
    "VIF[\"VIF\"]=[variance_inflation_factor(x.values,i) for i in range(x.shape[1])]\n",
    "VIF[\"columns\"]=x.columns\n",
    "VIF.round(0)"
   ]
  },
  {
   "cell_type": "code",
   "execution_count": 19,
   "metadata": {},
   "outputs": [],
   "source": [
    "x = x.drop(\"max.sentence\",axis =1)"
   ]
  },
  {
   "cell_type": "code",
   "execution_count": 20,
   "metadata": {},
   "outputs": [],
   "source": [
    "x_train,x_test,y_train,y_test=train_test_split(x,y,test_size=.3,random_state=1)"
   ]
  },
  {
   "cell_type": "code",
   "execution_count": 21,
   "metadata": {},
   "outputs": [
    {
     "data": {
      "text/plain": [
       "LogisticRegression(n_jobs=-1)"
      ]
     },
     "execution_count": 21,
     "metadata": {},
     "output_type": "execute_result"
    }
   ],
   "source": [
    "model=LogisticRegression(n_jobs=-1)\n",
    "model.fit(x_train,y_train)"
   ]
  },
  {
   "cell_type": "code",
   "execution_count": 23,
   "metadata": {},
   "outputs": [
    {
     "data": {
      "text/plain": [
       "{'C': 1.0,\n",
       " 'class_weight': None,\n",
       " 'dual': False,\n",
       " 'fit_intercept': True,\n",
       " 'intercept_scaling': 1,\n",
       " 'l1_ratio': None,\n",
       " 'max_iter': 100,\n",
       " 'multi_class': 'auto',\n",
       " 'n_jobs': -1,\n",
       " 'penalty': 'l2',\n",
       " 'random_state': None,\n",
       " 'solver': 'lbfgs',\n",
       " 'tol': 0.0001,\n",
       " 'verbose': 0,\n",
       " 'warm_start': False}"
      ]
     },
     "execution_count": 23,
     "metadata": {},
     "output_type": "execute_result"
    }
   ],
   "source": [
    "model.get_params()"
   ]
  },
  {
   "cell_type": "code",
   "execution_count": 24,
   "metadata": {},
   "outputs": [
    {
     "data": {
      "text/plain": [
       "array([-3.43228365])"
      ]
     },
     "execution_count": 24,
     "metadata": {},
     "output_type": "execute_result"
    }
   ],
   "source": [
    "model.intercept_"
   ]
  },
  {
   "cell_type": "code",
   "execution_count": 25,
   "metadata": {},
   "outputs": [
    {
     "data": {
      "text/plain": [
       "array([[ 0.00502746,  0.19343056,  0.43038913,  0.53240084,  0.45782466,\n",
       "         1.0898562 , -2.68990233,  1.38463515, -0.14007213, -0.34510348,\n",
       "        -0.37044813]])"
      ]
     },
     "execution_count": 25,
     "metadata": {},
     "output_type": "execute_result"
    }
   ],
   "source": [
    "model.coef_"
   ]
  },
  {
   "cell_type": "code",
   "execution_count": 26,
   "metadata": {},
   "outputs": [],
   "source": [
    "predictions = model.predict(x_test)"
   ]
  },
  {
   "cell_type": "code",
   "execution_count": 27,
   "metadata": {},
   "outputs": [
    {
     "data": {
      "text/plain": [
       "array([0, 1, 0, 0, 0, 0, 0, 1, 0, 0, 0, 0, 0, 0, 0, 0, 0, 0, 0, 0, 0, 0,\n",
       "       0, 0, 0, 0, 0, 0, 0, 0, 0, 0, 0, 0, 0, 0, 0, 0, 0, 0, 0, 0, 0, 0,\n",
       "       0, 0, 0, 1, 0, 0, 0, 0, 0, 0, 0, 0, 0, 0, 0, 0, 1, 0, 0, 0, 0, 0,\n",
       "       0, 0, 0, 0, 1, 0, 0, 0, 0, 0, 0, 0, 0, 1, 0, 1, 0, 0, 0, 0, 0, 0,\n",
       "       0, 0, 1, 0, 0, 0, 0, 1, 1, 1, 0, 0, 0, 1, 1, 0, 1, 0, 0, 0, 0, 0,\n",
       "       0, 0, 1, 0, 1, 0, 1, 0, 0, 0, 0, 0, 0, 0, 1, 1, 0, 0, 0, 0, 0, 1,\n",
       "       0, 0, 0, 0, 0, 0, 0, 0, 0, 0, 0, 0, 0, 0, 1, 0, 0, 0, 0, 0, 0, 0,\n",
       "       0, 0, 0, 1, 0, 0, 0, 1, 0, 0, 0, 0, 0, 0, 0, 0, 0, 0, 0, 0, 0, 0,\n",
       "       0, 1, 0, 0, 0, 0, 0, 0, 0, 0, 0, 0, 0, 0, 1, 0, 0, 0, 0, 0, 0, 0,\n",
       "       0, 0, 0, 0, 0, 0, 0, 0, 0, 0, 0, 0, 0, 0, 0, 1, 1, 0, 0, 0, 0, 1,\n",
       "       1, 0], dtype=uint8)"
      ]
     },
     "execution_count": 27,
     "metadata": {},
     "output_type": "execute_result"
    }
   ],
   "source": [
    "predictions"
   ]
  },
  {
   "cell_type": "code",
   "execution_count": 28,
   "metadata": {},
   "outputs": [],
   "source": [
    "predictprobability = model.predict_proba(x_test)"
   ]
  },
  {
   "cell_type": "code",
   "execution_count": 30,
   "metadata": {},
   "outputs": [
    {
     "name": "stdout",
     "output_type": "stream",
     "text": [
      "[[0.53919192 0.46080808]\n",
      " [0.49530758 0.50469242]\n",
      " [0.95764711 0.04235289]\n",
      " [0.9887507  0.0112493 ]\n",
      " [0.98924878 0.01075122]\n",
      " [0.99250568 0.00749432]\n",
      " [0.99532154 0.00467846]\n",
      " [0.45249969 0.54750031]\n",
      " [0.95661875 0.04338125]\n",
      " [0.98258163 0.01741837]\n",
      " [0.98595661 0.01404339]\n",
      " [0.85718128 0.14281872]\n",
      " [0.9581731  0.0418269 ]\n",
      " [0.95585312 0.04414688]\n",
      " [0.90307823 0.09692177]\n",
      " [0.93951988 0.06048012]\n",
      " [0.94160356 0.05839644]\n",
      " [0.97551724 0.02448276]\n",
      " [0.98950906 0.01049094]\n",
      " [0.95916678 0.04083322]\n",
      " [0.96517091 0.03482909]\n",
      " [0.71070051 0.28929949]\n",
      " [0.59125545 0.40874455]\n",
      " [0.84122026 0.15877974]\n",
      " [0.96039968 0.03960032]\n",
      " [0.96594422 0.03405578]\n",
      " [0.99149706 0.00850294]\n",
      " [0.76397237 0.23602763]\n",
      " [0.98860502 0.01139498]\n",
      " [0.67880039 0.32119961]\n",
      " [0.97126884 0.02873116]\n",
      " [0.97295283 0.02704717]\n",
      " [0.97052754 0.02947246]\n",
      " [0.91759031 0.08240969]\n",
      " [0.75203597 0.24796403]\n",
      " [0.96680686 0.03319314]\n",
      " [0.98186087 0.01813913]\n",
      " [0.80857826 0.19142174]\n",
      " [0.77062689 0.22937311]\n",
      " [0.63564688 0.36435312]\n",
      " [0.98769314 0.01230686]\n",
      " [0.69078557 0.30921443]\n",
      " [0.95840743 0.04159257]\n",
      " [0.98804933 0.01195067]\n",
      " [0.9945778  0.0054222 ]\n",
      " [0.89525603 0.10474397]\n",
      " [0.94186929 0.05813071]\n",
      " [0.49672316 0.50327684]\n",
      " [0.88297788 0.11702212]\n",
      " [0.5615799  0.4384201 ]\n",
      " [0.82387143 0.17612857]\n",
      " [0.9480925  0.0519075 ]\n",
      " [0.95988478 0.04011522]\n",
      " [0.78594783 0.21405217]\n",
      " [0.92640564 0.07359436]\n",
      " [0.95618547 0.04381453]\n",
      " [0.99102945 0.00897055]\n",
      " [0.92752536 0.07247464]\n",
      " [0.94626668 0.05373332]\n",
      " [0.79466388 0.20533612]\n",
      " [0.06864759 0.93135241]\n",
      " [0.54341537 0.45658463]\n",
      " [0.76397237 0.23602763]\n",
      " [0.68672964 0.31327036]\n",
      " [0.70030687 0.29969313]\n",
      " [0.97086481 0.02913519]\n",
      " [0.89470849 0.10529151]\n",
      " [0.63180181 0.36819819]\n",
      " [0.93442962 0.06557038]\n",
      " [0.95130486 0.04869514]\n",
      " [0.47810412 0.52189588]\n",
      " [0.82073359 0.17926641]\n",
      " [0.96903952 0.03096048]\n",
      " [0.71451052 0.28548948]\n",
      " [0.97611619 0.02388381]\n",
      " [0.87263324 0.12736676]\n",
      " [0.9681464  0.0318536 ]\n",
      " [0.64932127 0.35067873]\n",
      " [0.99157895 0.00842105]\n",
      " [0.4912201  0.5087799 ]\n",
      " [0.99257407 0.00742593]\n",
      " [0.34194567 0.65805433]\n",
      " [0.8565253  0.1434747 ]\n",
      " [0.97895647 0.02104353]\n",
      " [0.79267972 0.20732028]\n",
      " [0.94134408 0.05865592]\n",
      " [0.98145098 0.01854902]\n",
      " [0.79282969 0.20717031]\n",
      " [0.98228374 0.01771626]\n",
      " [0.86745977 0.13254023]\n",
      " [0.47744509 0.52255491]\n",
      " [0.95489872 0.04510128]\n",
      " [0.66327436 0.33672564]\n",
      " [0.51094525 0.48905475]\n",
      " [0.9444007  0.0555993 ]\n",
      " [0.31695723 0.68304277]\n",
      " [0.47744509 0.52255491]\n",
      " [0.2762324  0.7237676 ]\n",
      " [0.97408871 0.02591129]\n",
      " [0.95717281 0.04282719]\n",
      " [0.91893855 0.08106145]\n",
      " [0.08791705 0.91208295]\n",
      " [0.3117506  0.6882494 ]\n",
      " [0.95341144 0.04658856]\n",
      " [0.39337804 0.60662196]\n",
      " [0.63145679 0.36854321]\n",
      " [0.94369766 0.05630234]\n",
      " [0.96786708 0.03213292]\n",
      " [0.90077537 0.09922463]\n",
      " [0.94720311 0.05279689]\n",
      " [0.84751003 0.15248997]\n",
      " [0.98498317 0.01501683]\n",
      " [0.45229361 0.54770639]\n",
      " [0.98976065 0.01023935]\n",
      " [0.30341642 0.69658358]\n",
      " [0.89487772 0.10512228]\n",
      " [0.27517068 0.72482932]\n",
      " [0.92704834 0.07295166]\n",
      " [0.84129496 0.15870504]\n",
      " [0.51466564 0.48533436]\n",
      " [0.97666352 0.02333648]\n",
      " [0.97619633 0.02380367]\n",
      " [0.77015409 0.22984591]\n",
      " [0.96267931 0.03732069]\n",
      " [0.14280613 0.85719387]\n",
      " [0.37900143 0.62099857]\n",
      " [0.85001307 0.14998693]\n",
      " [0.93951493 0.06048507]\n",
      " [0.96280245 0.03719755]\n",
      " [0.85155204 0.14844796]\n",
      " [0.95441212 0.04558788]\n",
      " [0.3683694  0.6316306 ]\n",
      " [0.99012751 0.00987249]\n",
      " [0.92832202 0.07167798]\n",
      " [0.94485273 0.05514727]\n",
      " [0.89395368 0.10604632]\n",
      " [0.96211836 0.03788164]\n",
      " [0.95894964 0.04105036]\n",
      " [0.95682052 0.04317948]\n",
      " [0.89614623 0.10385377]\n",
      " [0.55297095 0.44702905]\n",
      " [0.96766338 0.03233662]\n",
      " [0.95638802 0.04361198]\n",
      " [0.98009858 0.01990142]\n",
      " [0.95523368 0.04476632]\n",
      " [0.98378858 0.01621142]\n",
      " [0.44428253 0.55571747]\n",
      " [0.83548338 0.16451662]\n",
      " [0.95512607 0.04487393]\n",
      " [0.9329518  0.0670482 ]\n",
      " [0.97255797 0.02744203]\n",
      " [0.95568299 0.04431701]\n",
      " [0.9609955  0.0390045 ]\n",
      " [0.9156006  0.0843994 ]\n",
      " [0.9812414  0.0187586 ]\n",
      " [0.64137789 0.35862211]\n",
      " [0.86750548 0.13249452]\n",
      " [0.25943972 0.74056028]\n",
      " [0.86651045 0.13348955]\n",
      " [0.8812514  0.1187486 ]\n",
      " [0.805472   0.194528  ]\n",
      " [0.27864015 0.72135985]\n",
      " [0.84567855 0.15432145]\n",
      " [0.75582179 0.24417821]\n",
      " [0.96484203 0.03515797]\n",
      " [0.95204744 0.04795256]\n",
      " [0.9724544  0.0275456 ]\n",
      " [0.99524833 0.00475167]\n",
      " [0.74099031 0.25900969]\n",
      " [0.95327158 0.04672842]\n",
      " [0.80874812 0.19125188]\n",
      " [0.95468281 0.04531719]\n",
      " [0.98938803 0.01061197]\n",
      " [0.87931194 0.12068806]\n",
      " [0.70061276 0.29938724]\n",
      " [0.97709017 0.02290983]\n",
      " [0.98115582 0.01884418]\n",
      " [0.40480703 0.59519297]\n",
      " [0.80257863 0.19742137]\n",
      " [0.87082958 0.12917042]\n",
      " [0.97046059 0.02953941]\n",
      " [0.85837932 0.14162068]\n",
      " [0.94376508 0.05623492]\n",
      " [0.72080322 0.27919678]\n",
      " [0.57367589 0.42632411]\n",
      " [0.90622524 0.09377476]\n",
      " [0.93624758 0.06375242]\n",
      " [0.95394118 0.04605882]\n",
      " [0.62654547 0.37345453]\n",
      " [0.63758217 0.36241783]\n",
      " [0.28875973 0.71124027]\n",
      " [0.96676205 0.03323795]\n",
      " [0.97869689 0.02130311]\n",
      " [0.85290772 0.14709228]\n",
      " [0.8693792  0.1306208 ]\n",
      " [0.96561498 0.03438502]\n",
      " [0.97888579 0.02111421]\n",
      " [0.79267972 0.20732028]\n",
      " [0.97546057 0.02453943]\n",
      " [0.6723096  0.3276904 ]\n",
      " [0.99137503 0.00862497]\n",
      " [0.95384    0.04616   ]\n",
      " [0.98839248 0.01160752]\n",
      " [0.98796907 0.01203093]\n",
      " [0.90396302 0.09603698]\n",
      " [0.89342868 0.10657132]\n",
      " [0.89084169 0.10915831]\n",
      " [0.85404646 0.14595354]\n",
      " [0.70671784 0.29328216]\n",
      " [0.94130805 0.05869195]\n",
      " [0.94087229 0.05912771]\n",
      " [0.96604015 0.03395985]\n",
      " [0.94422231 0.05577769]\n",
      " [0.36046999 0.63953001]\n",
      " [0.08012078 0.91987922]\n",
      " [0.8824872  0.1175128 ]\n",
      " [0.97780058 0.02219942]\n",
      " [0.8264481  0.1735519 ]\n",
      " [0.90394336 0.09605664]\n",
      " [0.24448595 0.75551405]\n",
      " [0.25307355 0.74692645]\n",
      " [0.86801229 0.13198771]]\n"
     ]
    }
   ],
   "source": [
    "print(predictprobability)"
   ]
  },
  {
   "cell_type": "code",
   "execution_count": 33,
   "metadata": {},
   "outputs": [
    {
     "data": {
      "text/plain": [
       "array([[167,   5],\n",
       "       [ 26,  24]], dtype=int64)"
      ]
     },
     "execution_count": 33,
     "metadata": {},
     "output_type": "execute_result"
    }
   ],
   "source": [
    "metrics.confusion_matrix(y_test,predictions)"
   ]
  },
  {
   "cell_type": "code",
   "execution_count": 32,
   "metadata": {},
   "outputs": [
    {
     "data": {
      "text/plain": [
       "((222, 11), (222,))"
      ]
     },
     "execution_count": 32,
     "metadata": {},
     "output_type": "execute_result"
    }
   ],
   "source": [
    "x_test.shape,y_test.shape"
   ]
  },
  {
   "cell_type": "code",
   "execution_count": 35,
   "metadata": {},
   "outputs": [
    {
     "name": "stdout",
     "output_type": "stream",
     "text": [
      "              precision    recall  f1-score   support\n",
      "\n",
      "           0       0.87      0.97      0.92       172\n",
      "           1       0.83      0.48      0.61        50\n",
      "\n",
      "    accuracy                           0.86       222\n",
      "   macro avg       0.85      0.73      0.76       222\n",
      "weighted avg       0.86      0.86      0.85       222\n",
      "\n"
     ]
    }
   ],
   "source": [
    "print(metrics.classification_report(y_test,predictions))"
   ]
  },
  {
   "cell_type": "code",
   "execution_count": 37,
   "metadata": {},
   "outputs": [
    {
     "data": {
      "text/plain": [
       "(array([0.        , 0.02906977, 1.        ]),\n",
       " array([0.  , 0.48, 1.  ]),\n",
       " array([2, 1, 0]))"
      ]
     },
     "execution_count": 37,
     "metadata": {},
     "output_type": "execute_result"
    }
   ],
   "source": [
    "fpr,tpr,thr = metrics.roc_curve(y_test,predictions)\n",
    "fpr,tpr,thr"
   ]
  },
  {
   "cell_type": "code",
   "execution_count": 38,
   "metadata": {},
   "outputs": [
    {
     "data": {
      "text/plain": [
       "0.7254651162790697"
      ]
     },
     "execution_count": 38,
     "metadata": {},
     "output_type": "execute_result"
    }
   ],
   "source": [
    "metrics.roc_auc_score(y_test,predictions)"
   ]
  },
  {
   "cell_type": "code",
   "execution_count": 39,
   "metadata": {},
   "outputs": [
    {
     "data": {
      "image/png": "[encoded data removed]",
      "text/plain": [
       "<Figure size 432x288 with 1 Axes>"
      ]
     },
     "metadata": {
      "needs_background": "light"
     },
     "output_type": "display_data"
    }
   ],
   "source": [
    "plt.plot(fpr,tpr,label=\"ROC_AUC\")\n",
    "plt.show()"
   ]
  },
  {
   "cell_type": "code",
   "execution_count": null,
   "metadata": {},
   "outputs": [],
   "source": []
  }
 ],
 "metadata": {
  "kernelspec": {
   "display_name": "Python 3",
   "language": "python",
   "name": "python3"
  },
  "language_info": {
   "codemirror_mode": {
    "name": "ipython",
    "version": 3
   },
   "file_extension": ".py",
   "mimetype": "text/x-python",
   "name": "python",
   "nbconvert_exporter": "python",
   "pygments_lexer": "ipython3",
   "version": "3.8.5"
  }
 },
 "nbformat": 4,
 "nbformat_minor": 4
}
