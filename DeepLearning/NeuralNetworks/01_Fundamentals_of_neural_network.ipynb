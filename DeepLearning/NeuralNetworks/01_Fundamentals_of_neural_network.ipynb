{
  "nbformat": 4,
  "nbformat_minor": 0,
  "metadata": {
    "colab": {
      "name": "01_Fundamentals of neural network.ipynb",
      "provenance": [],
      "collapsed_sections": []
    },
    "kernelspec": {
      "name": "python3",
      "display_name": "Python 3"
    },
    "language_info": {
      "name": "python"
    },
    "accelerator": "GPU"
  },
  "cells": [
    {
      "cell_type": "code",
      "metadata": {
        "id": "Tlb-76fln_i2"
      },
      "source": [
        "import torch"
      ],
      "execution_count": 1,
      "outputs": []
    },
    {
      "cell_type": "code",
      "metadata": {
        "colab": {
          "base_uri": "https://localhost:8080/"
        },
        "id": "Z17KHsxXGCiW",
        "outputId": "39f57561-d387-4804-ba03-7868ccb20a66"
      },
      "source": [
        "features = torch.randn((1,5)) # 1 row and five columns in normal distribution of mean 0 and std 1 (features x1)\n",
        "features"
      ],
      "execution_count": 2,
      "outputs": [
        {
          "output_type": "execute_result",
          "data": {
            "text/plain": [
              "tensor([[ 0.3798, -1.1108,  0.2831, -1.0143,  1.3761]])"
            ]
          },
          "metadata": {
            "tags": []
          },
          "execution_count": 2
        }
      ]
    },
    {
      "cell_type": "code",
      "metadata": {
        "colab": {
          "base_uri": "https://localhost:8080/"
        },
        "id": "vxSK2WASG_4H",
        "outputId": "e60175e9-a543-46ab-ed54-c8b0e2640296"
      },
      "source": [
        "weights = torch.randn_like(features) # having same of features and with normal distribution( weights w1)\n",
        "weights"
      ],
      "execution_count": 3,
      "outputs": [
        {
          "output_type": "execute_result",
          "data": {
            "text/plain": [
              "tensor([[-0.2016,  0.5824, -1.2708, -1.1295,  0.3991]])"
            ]
          },
          "metadata": {
            "tags": []
          },
          "execution_count": 3
        }
      ]
    },
    {
      "cell_type": "code",
      "metadata": {
        "colab": {
          "base_uri": "https://localhost:8080/"
        },
        "id": "nGznqDaTHW6x",
        "outputId": "77553ecb-9784-4186-fa0f-a74574f17e30"
      },
      "source": [
        "bias = torch.randn((1,1)) # bias b\n",
        "bias"
      ],
      "execution_count": 4,
      "outputs": [
        {
          "output_type": "execute_result",
          "data": {
            "text/plain": [
              "tensor([[0.4813]])"
            ]
          },
          "metadata": {
            "tags": []
          },
          "execution_count": 4
        }
      ]
    },
    {
      "cell_type": "code",
      "metadata": {
        "id": "oDOYOUZ6HqoH"
      },
      "source": [
        "# y = fsum((x1*w1)+b) # x1 and w1 is dot product"
      ],
      "execution_count": 5,
      "outputs": []
    },
    {
      "cell_type": "code",
      "metadata": {
        "id": "8rFXlcUVH8W3"
      },
      "source": [
        "# f is activation function "
      ],
      "execution_count": 6,
      "outputs": []
    },
    {
      "cell_type": "code",
      "metadata": {
        "id": "4R3gGXjEIsEE"
      },
      "source": [
        "def activation(x):\n",
        "  return 1/(1+torch.exp(-x)) # sigmoid"
      ],
      "execution_count": 7,
      "outputs": []
    },
    {
      "cell_type": "code",
      "metadata": {
        "colab": {
          "base_uri": "https://localhost:8080/"
        },
        "id": "ao_ILAojJBIo",
        "outputId": "d1b39bc6-1083-4177-a765-92385281bd9d"
      },
      "source": [
        "torch.exp(-features)"
      ],
      "execution_count": 8,
      "outputs": [
        {
          "output_type": "execute_result",
          "data": {
            "text/plain": [
              "tensor([[0.6840, 3.0369, 0.7535, 2.7575, 0.2526]])"
            ]
          },
          "metadata": {
            "tags": []
          },
          "execution_count": 8
        }
      ]
    },
    {
      "cell_type": "code",
      "metadata": {
        "colab": {
          "base_uri": "https://localhost:8080/"
        },
        "id": "15CD8KQWJpSM",
        "outputId": "43805ca3-3df4-48e9-ff49-ca6c25fdff39"
      },
      "source": [
        "dotproduct = torch.mm(features,weights.view(5,1))\n",
        "dotproduct\n",
        "\n"
      ],
      "execution_count": 17,
      "outputs": [
        {
          "output_type": "execute_result",
          "data": {
            "text/plain": [
              "tensor([[0.6116]])"
            ]
          },
          "metadata": {
            "tags": []
          },
          "execution_count": 17
        }
      ]
    },
    {
      "cell_type": "code",
      "metadata": {
        "colab": {
          "base_uri": "https://localhost:8080/"
        },
        "id": "qiJW72vqLMP0",
        "outputId": "3fb9295e-ba29-4ba2-c3b1-d38bc8846cbc"
      },
      "source": [
        "bias"
      ],
      "execution_count": 18,
      "outputs": [
        {
          "output_type": "execute_result",
          "data": {
            "text/plain": [
              "tensor([[0.4813]])"
            ]
          },
          "metadata": {
            "tags": []
          },
          "execution_count": 18
        }
      ]
    },
    {
      "cell_type": "code",
      "metadata": {
        "id": "XELSl4kJLb4f"
      },
      "source": [
        "\n",
        "linear_combination = dotproduct+bias"
      ],
      "execution_count": 19,
      "outputs": []
    },
    {
      "cell_type": "code",
      "metadata": {
        "colab": {
          "base_uri": "https://localhost:8080/"
        },
        "id": "IgPETfFdLuMT",
        "outputId": "487ade81-4839-4abb-a5cb-72bf0a9c27bb"
      },
      "source": [
        "linear_combination"
      ],
      "execution_count": 20,
      "outputs": [
        {
          "output_type": "execute_result",
          "data": {
            "text/plain": [
              "tensor([[1.0929]])"
            ]
          },
          "metadata": {
            "tags": []
          },
          "execution_count": 20
        }
      ]
    },
    {
      "cell_type": "code",
      "metadata": {
        "colab": {
          "base_uri": "https://localhost:8080/"
        },
        "id": "KIa8W9AbMWGM",
        "outputId": "b3a18520-c4c5-449d-c804-3a4e46f951ea"
      },
      "source": [
        "activation(linear_combination)"
      ],
      "execution_count": 21,
      "outputs": [
        {
          "output_type": "execute_result",
          "data": {
            "text/plain": [
              "tensor([[0.7489]])"
            ]
          },
          "metadata": {
            "tags": []
          },
          "execution_count": 21
        }
      ]
    },
    {
      "cell_type": "code",
      "metadata": {
        "colab": {
          "base_uri": "https://localhost:8080/",
          "height": 52
        },
        "id": "wLJg_Ol-Mafz",
        "outputId": "5cbf6331-4835-48b0-b578-2dafd45416b7"
      },
      "source": [
        "#Summary\n",
        "\n",
        "\"\"\"Features-(1,5)\n",
        "weights - (5,1),\n",
        "bias - (1,1)\n",
        "\n",
        "dot product of features and wieght = (1,1)\n",
        "add dot product and bias \n",
        "apply activation on those sum \n",
        "this for single neuron\"\"\""
      ],
      "execution_count": 22,
      "outputs": [
        {
          "output_type": "execute_result",
          "data": {
            "application/vnd.google.colaboratory.intrinsic+json": {
              "type": "string"
            },
            "text/plain": [
              "'Features-(1,5)\\nweights - (5,1),\\nbias - (1,1)\\n\\ndot product of features and wieght = (1,1)\\nadd dot product and bias \\napply activation on those sum \\nthis for single neuron'"
            ]
          },
          "metadata": {
            "tags": []
          },
          "execution_count": 22
        }
      ]
    },
    {
      "cell_type": "code",
      "metadata": {
        "colab": {
          "base_uri": "https://localhost:8080/"
        },
        "id": "34ziVNfCNFcQ",
        "outputId": "051edd3a-5468-498a-e2a8-53443031d3f0"
      },
      "source": [
        "torch.manual_seed(7) # the things should be predictable"
      ],
      "execution_count": 25,
      "outputs": [
        {
          "output_type": "execute_result",
          "data": {
            "text/plain": [
              "<torch._C.Generator at 0x7f6a43d49ad0>"
            ]
          },
          "metadata": {
            "tags": []
          },
          "execution_count": 25
        }
      ]
    },
    {
      "cell_type": "code",
      "metadata": {
        "id": "MuFT1lidOXt5"
      },
      "source": [
        "input_size = features.shape[1]\n",
        "n_hidden = 2\n",
        "n_outputs = 2\n",
        "\n",
        "w1 = torch.randn(input_size,n_hidden)\n",
        "w2 = torch.randn(n_hidden,n_outputs)\n",
        "\n",
        "b1 = torch.randn((1,n_hidden))\n",
        "b2 = torch.randn((1,n_outputs))"
      ],
      "execution_count": 26,
      "outputs": []
    },
    {
      "cell_type": "code",
      "metadata": {
        "colab": {
          "base_uri": "https://localhost:8080/"
        },
        "id": "usB0n-hyQVrr",
        "outputId": "08f0c41f-eb55-4701-994f-aa62de7273c4"
      },
      "source": [
        "h1 = activation(torch.mm(features,w1)+b1)\n",
        "h1.shape"
      ],
      "execution_count": 30,
      "outputs": [
        {
          "output_type": "execute_result",
          "data": {
            "text/plain": [
              "torch.Size([1, 2])"
            ]
          },
          "metadata": {
            "tags": []
          },
          "execution_count": 30
        }
      ]
    },
    {
      "cell_type": "code",
      "metadata": {
        "colab": {
          "base_uri": "https://localhost:8080/"
        },
        "id": "FzqBDLevQpDu",
        "outputId": "07fe8bcd-cbb1-4542-fcf6-af909ea4cc4c"
      },
      "source": [
        "output = activation(torch.mm(h1,w2)+b2)\n",
        "output"
      ],
      "execution_count": 31,
      "outputs": [
        {
          "output_type": "execute_result",
          "data": {
            "text/plain": [
              "tensor([[0.9386, 0.5927]])"
            ]
          },
          "metadata": {
            "tags": []
          },
          "execution_count": 31
        }
      ]
    },
    {
      "cell_type": "code",
      "metadata": {
        "colab": {
          "base_uri": "https://localhost:8080/",
          "height": 34
        },
        "id": "_WXrS0KvQ38U",
        "outputId": "40ea3012-b7c0-4a8b-98cd-68e960e7589b"
      },
      "source": [
        "\"\"\"Summary\n",
        "2 neuron, 1 input layer(1,5), 1 hiddenlayer(2 neuron), 1 output layer(2 output)\n",
        "\"\"\""
      ],
      "execution_count": 32,
      "outputs": [
        {
          "output_type": "execute_result",
          "data": {
            "application/vnd.google.colaboratory.intrinsic+json": {
              "type": "string"
            },
            "text/plain": [
              "'Summary\\n2 neuron, 1 input layer(1,5), 1 hiddenlayer(2 neuron), 1 output layer(2 output)\\n'"
            ]
          },
          "metadata": {
            "tags": []
          },
          "execution_count": 32
        }
      ]
    },
    {
      "cell_type": "code",
      "metadata": {
        "id": "HAfTTI2CRzqp"
      },
      "source": [
        "# number of hidden units are hyperparameters"
      ],
      "execution_count": 33,
      "outputs": []
    },
    {
      "cell_type": "code",
      "metadata": {
        "id": "Cy1BneM9R9SG"
      },
      "source": [
        "#Numpy vs torch"
      ],
      "execution_count": 34,
      "outputs": []
    },
    {
      "cell_type": "code",
      "metadata": {
        "id": "DDtxFLb9WxSV"
      },
      "source": [
        "import numpy as np"
      ],
      "execution_count": 35,
      "outputs": []
    },
    {
      "cell_type": "code",
      "metadata": {
        "colab": {
          "base_uri": "https://localhost:8080/"
        },
        "id": "xc6bzOR7WzPK",
        "outputId": "485019ce-ea19-4ded-a72f-8a61e3b4882d"
      },
      "source": [
        "a = np.random.randn(1,5)\n",
        "a"
      ],
      "execution_count": 36,
      "outputs": [
        {
          "output_type": "execute_result",
          "data": {
            "text/plain": [
              "array([[ 0.89633617, -2.05804165,  0.32461423,  1.22403199, -0.2633265 ]])"
            ]
          },
          "metadata": {
            "tags": []
          },
          "execution_count": 36
        }
      ]
    },
    {
      "cell_type": "code",
      "metadata": {
        "colab": {
          "base_uri": "https://localhost:8080/"
        },
        "id": "owDMK9LDW7sq",
        "outputId": "5430d243-9de3-4515-9b2e-006e07074830"
      },
      "source": [
        "id(a)"
      ],
      "execution_count": 37,
      "outputs": [
        {
          "output_type": "execute_result",
          "data": {
            "text/plain": [
              "140094298732464"
            ]
          },
          "metadata": {
            "tags": []
          },
          "execution_count": 37
        }
      ]
    },
    {
      "cell_type": "code",
      "metadata": {
        "colab": {
          "base_uri": "https://localhost:8080/"
        },
        "id": "RdP1Cno2W_ru",
        "outputId": "0ec784a5-14aa-4b18-8295-56575666a820"
      },
      "source": [
        "b = torch.from_numpy(a)\n",
        "b"
      ],
      "execution_count": 38,
      "outputs": [
        {
          "output_type": "execute_result",
          "data": {
            "text/plain": [
              "tensor([[ 0.8963, -2.0580,  0.3246,  1.2240, -0.2633]], dtype=torch.float64)"
            ]
          },
          "metadata": {
            "tags": []
          },
          "execution_count": 38
        }
      ]
    },
    {
      "cell_type": "code",
      "metadata": {
        "colab": {
          "base_uri": "https://localhost:8080/"
        },
        "id": "qMKggyDuXHNG",
        "outputId": "a366542b-a238-4f18-ac88-ec6845d05034"
      },
      "source": [
        "id(b)"
      ],
      "execution_count": 39,
      "outputs": [
        {
          "output_type": "execute_result",
          "data": {
            "text/plain": [
              "140094298735472"
            ]
          },
          "metadata": {
            "tags": []
          },
          "execution_count": 39
        }
      ]
    },
    {
      "cell_type": "code",
      "metadata": {
        "colab": {
          "base_uri": "https://localhost:8080/"
        },
        "id": "2Xi3G57UXJcG",
        "outputId": "13eee46b-3a3b-42b8-c14b-8bfbd1246c2e"
      },
      "source": [
        "b.numpy()"
      ],
      "execution_count": 40,
      "outputs": [
        {
          "output_type": "execute_result",
          "data": {
            "text/plain": [
              "array([[ 0.89633617, -2.05804165,  0.32461423,  1.22403199, -0.2633265 ]])"
            ]
          },
          "metadata": {
            "tags": []
          },
          "execution_count": 40
        }
      ]
    },
    {
      "cell_type": "code",
      "metadata": {
        "colab": {
          "base_uri": "https://localhost:8080/"
        },
        "id": "enZnyAKPXZGZ",
        "outputId": "86ede490-a386-41c5-c1b4-9c2755689c79"
      },
      "source": [
        "b.mul_(2)"
      ],
      "execution_count": 43,
      "outputs": [
        {
          "output_type": "execute_result",
          "data": {
            "text/plain": [
              "tensor([[ 1.7927, -4.1161,  0.6492,  2.4481, -0.5267]], dtype=torch.float64)"
            ]
          },
          "metadata": {
            "tags": []
          },
          "execution_count": 43
        }
      ]
    },
    {
      "cell_type": "code",
      "metadata": {
        "colab": {
          "base_uri": "https://localhost:8080/"
        },
        "id": "Yve7I5cyXcOt",
        "outputId": "f8169bd6-9d1a-4b3f-8f42-1b4ecb8d7b5b"
      },
      "source": [
        "a"
      ],
      "execution_count": 44,
      "outputs": [
        {
          "output_type": "execute_result",
          "data": {
            "text/plain": [
              "array([[ 1.79267235, -4.1160833 ,  0.64922847,  2.44806398, -0.52665299]])"
            ]
          },
          "metadata": {
            "tags": []
          },
          "execution_count": 44
        }
      ]
    },
    {
      "cell_type": "code",
      "metadata": {
        "colab": {
          "base_uri": "https://localhost:8080/",
          "height": 34
        },
        "id": "lYJjLz_LXkPw",
        "outputId": "2f90fd69-da01-4d52-e18a-afa935757cc0"
      },
      "source": [
        "\" In numpy to torch and torch modifications will reflect on numpy means memory sharing \""
      ],
      "execution_count": 45,
      "outputs": [
        {
          "output_type": "execute_result",
          "data": {
            "application/vnd.google.colaboratory.intrinsic+json": {
              "type": "string"
            },
            "text/plain": [
              "' In numpy to torch and torch modifications will reflect on numpy means memory sharing '"
            ]
          },
          "metadata": {
            "tags": []
          },
          "execution_count": 45
        }
      ]
    },
    {
      "cell_type": "code",
      "metadata": {
        "id": "EitIPnTdYTJh"
      },
      "source": [
        ""
      ],
      "execution_count": null,
      "outputs": []
    }
  ]
}